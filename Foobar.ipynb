{
 "cells": [
  {
   "cell_type": "code",
   "execution_count": null,
   "id": "3f48a435",
   "metadata": {},
   "outputs": [],
   "source": [
    "###Phase 1 Problem 1\n",
    "def solution(data,n):\n",
    "    mul_data=[]\n",
    "    for d in data:\n",
    "        new=True\n",
    "        for m_d in mul_data:\n",
    "            if d==m_d[0]:\n",
    "                new=False\n",
    "                m_d[1]+=1\n",
    "        if new:\n",
    "            mul_data.append([d,1])\n",
    "            \n",
    "    for m_d in mul_data:\n",
    "        if m_d[1]>n:\n",
    "            for _ in range(m_d[1]):\n",
    "                data.remove(m_d[0])\n",
    "\n",
    "    print(data)"
   ]
  },
  {
   "cell_type": "code",
   "execution_count": null,
   "id": "1aa0c9fa",
   "metadata": {},
   "outputs": [],
   "source": [
    "solution([1,2,3,2],0)"
   ]
  },
  {
   "cell_type": "code",
   "execution_count": null,
   "id": "de6e7857",
   "metadata": {},
   "outputs": [],
   "source": [
    "solution([1, 2, 2, 3, 3, 3, 4, 5, 5], 1)"
   ]
  },
  {
   "cell_type": "code",
   "execution_count": null,
   "id": "aa1e9056",
   "metadata": {},
   "outputs": [],
   "source": [
    "N=12\n",
    "N=list(str(N))\n",
    "N.sort()\n",
    "M=N\n",
    "N=''.join(map(str,N))\n",
    "\n",
    "print(int(N,base=9))\n",
    "print(N)\n",
    "M.reverse()\n",
    "print(M)"
   ]
  },
  {
   "cell_type": "code",
   "execution_count": null,
   "id": "a4f4473c",
   "metadata": {},
   "outputs": [],
   "source": [
    "###Phase 2 Problem 1\n",
    "def solution(n, b):\n",
    "    n_list=[]\n",
    "    n=list(str(n))\n",
    "    \n",
    "    k=len(n)\n",
    "\n",
    "    for i in range(10**6):\n",
    "        n.sort()\n",
    "        \n",
    "        rev=[x for x in n]\n",
    "        rev.reverse()\n",
    "        \n",
    "        n=''.join(map(str,n))\n",
    "        rev=''.join(map(str,rev))\n",
    "        \n",
    "        n=int(n,base=b)\n",
    "        \n",
    "        for j in range(i):\n",
    "            if n_list[i-1-j]==n:\n",
    "                return j+1\n",
    "        \n",
    "        n_list.append(n)\n",
    "        \n",
    "        d=int(rev,base=b)-n\n",
    "        \n",
    "        \n",
    "        new_n=[]\n",
    "        for j in range(k):\n",
    "            new_n.insert(-1,d%b)\n",
    "            d//=b\n",
    "        n=new_n\n"
   ]
  },
  {
   "cell_type": "code",
   "execution_count": null,
   "id": "417a7def",
   "metadata": {},
   "outputs": [],
   "source": [
    "solution('210022', 3)"
   ]
  },
  {
   "cell_type": "code",
   "execution_count": null,
   "id": "4dbc11cf",
   "metadata": {},
   "outputs": [],
   "source": [
    "###Phase 2 Problem 2\n",
    "def solution(l):\n",
    "    sort_list=[]\n",
    "    L=0\n",
    "    \n",
    "    for x in l:\n",
    "        sort_list.append((x.split('.')))\n",
    "        sort_list[L].insert(0,L)\n",
    "        L+=1\n",
    "    \n",
    "    print(sort_list)\n",
    "    print(L)\n",
    "    swap=False\n",
    "    \n",
    "    for i in range(L):\n",
    "        for j in range(i):\n",
    "            swap=True\n",
    "            check_more=True\n",
    "            for k in range(min(len(sort_list[i]),len(sort_list[j]))-1):\n",
    "                if check_more:\n",
    "                    if((int(sort_list[i][k])<int(sort_list[j][k]))):\n",
    "                        swap=False\n",
    "                    if((int(sort_list[i][k])!=int(sort_list[j][k]))):\n",
    "                        check_more=False\n",
    "            if check_more:\n",
    "                if(len(sort_list[i])>len(sort_list[j])):\n",
    "                    swap=False\n",
    "            if swap:\n",
    "                temp=sort_list[i]\n",
    "                sort_list[i]=[_ for _ in sort_list[j]]\n",
    "                sort_list[j]=[_ for _ in temp]\n",
    "    \n",
    "    print(sort_list)\n",
    "    for x in sort_list:\n",
    "        print(x[0])\n",
    "    final_list=[l[x[0]] for x in sort_list]\n",
    "    \n",
    "    return final_list      "
   ]
  },
  {
   "cell_type": "code",
   "execution_count": null,
   "id": "13d0e012",
   "metadata": {},
   "outputs": [],
   "source": [
    "solution([\"1.1.2\", \"1.0\", \"1.3.3\", \"1.0.12\", \"1.0.2\"])"
   ]
  },
  {
   "cell_type": "code",
   "execution_count": null,
   "id": "a4d28c97",
   "metadata": {},
   "outputs": [],
   "source": [
    "### Phase 2 Problem 2\n",
    "def solution(l):\n",
    "    new_list=[]\n",
    "    for x in l:\n",
    "        new_list.append(list(map(int,x.split('.'))))\n",
    "    print(new_list)\n",
    "    new_list.sort()\n",
    "    print(new_list)\n",
    "    \n",
    "    return_list=[]\n",
    "    for x in new_list:\n",
    "        return_list.append('.'.join(list(map(str,x))))\n",
    "    print(return_list)"
   ]
  },
  {
   "cell_type": "code",
   "execution_count": null,
   "id": "1199014d",
   "metadata": {},
   "outputs": [],
   "source": [
    "solution([\"1.1.2\", \"1.0\", \"1.3.3\", \"1.0.12\", \"1.0.2\"])"
   ]
  },
  {
   "cell_type": "code",
   "execution_count": null,
   "id": "f4e2f046",
   "metadata": {},
   "outputs": [],
   "source": [
    "solution({\"1.11\", \"2.0.0\", \"1.2\", \"2\", \"0.1\", \"1.2.1\", \"1.1.1\", \"2.0\"})"
   ]
  },
  {
   "cell_type": "code",
   "execution_count": null,
   "id": "52db2bff",
   "metadata": {},
   "outputs": [],
   "source": [
    "### Phase 3 Problem 1\n",
    "def solution(l):\n",
    "\n",
    "    l.sort()\n",
    "    div_list=[]\n",
    "    N=0\n",
    "    \n",
    "    L=len(l)\n",
    "    for i in range(L):\n",
    "        cnt=0\n",
    "        for j in range(i):\n",
    "            if ((l[i]%l[j])==0):\n",
    "                cnt+=1\n",
    "                N+=div_list[j]\n",
    "        div_list.append(cnt)\n",
    "    return N"
   ]
  },
  {
   "cell_type": "code",
   "execution_count": null,
   "id": "c7c0f876",
   "metadata": {},
   "outputs": [],
   "source": [
    "solution([1, 2, 3, 4, 5, 6])"
   ]
  },
  {
   "cell_type": "code",
   "execution_count": null,
   "id": "0da98c62",
   "metadata": {},
   "outputs": [],
   "source": [
    "solution([1,1,1,1,1])"
   ]
  },
  {
   "cell_type": "code",
   "execution_count": null,
   "id": "6eeece10",
   "metadata": {},
   "outputs": [],
   "source": [
    "def solution(n):\n",
    "    \n",
    "    L=len(n)\n",
    "    binary_list=[]\n",
    "    n=list(map(int,n))\n",
    "    \n",
    "    for i in range(4*L):\n",
    "        binary_list.insert(0,int(n[L-1])%2)\n",
    "        down=0\n",
    "        for j in range(L):\n",
    "            temp=n[j]%2\n",
    "            n[j]=5*down+n[j]//2\n",
    "            down=temp\n",
    "    \n",
    "    for _ in range(4*L):\n",
    "        if binary_list[0]==1:\n",
    "            break\n",
    "        binary_list.remove(0)\n",
    "    \n",
    "    ###print(binary_list)\n",
    "    binary_list.reverse()\n",
    "    \n",
    "    ans=0\n",
    "    cons_ones=0\n",
    "    \n",
    "    for x in binary_list:\n",
    "        \n",
    "        if x==0:\n",
    "            if cons_ones<2:\n",
    "                ans+=(2*cons_ones+1)\n",
    "                cons_ones=0\n",
    "            else:\n",
    "                ans+=(cons_ones+1)\n",
    "                cons_ones=1\n",
    "        else:\n",
    "            cons_ones+=1\n",
    "    \n",
    "    if cons_ones==2:\n",
    "        ans+=2\n",
    "    if cons_ones>2:\n",
    "        ans+=(cons_ones+1)\n",
    "        \n",
    "    return ans"
   ]
  },
  {
   "cell_type": "code",
   "execution_count": null,
   "id": "23a42d18",
   "metadata": {},
   "outputs": [],
   "source": [
    "my_list=[]\n",
    "for i in range(1000):\n",
    "    my_list.append([i,solution(str(i))])\n",
    "print(my_list)"
   ]
  },
  {
   "cell_type": "code",
   "execution_count": null,
   "id": "68be5f9c",
   "metadata": {},
   "outputs": [],
   "source": [
    "for i in range(99):\n",
    "    print(i)\n",
    "    if i%2==0:\n",
    "        print((my_list[i][1]==my_list[i//2][1]+1))\n",
    "    else:\n",
    "        print((my_list[i][1]==1+min(my_list[i+1][1],my_list[i-1][1])))"
   ]
  },
  {
   "cell_type": "code",
   "execution_count": null,
   "id": "0b37f122",
   "metadata": {},
   "outputs": [],
   "source": [
    "##59,91\n",
    "solution('59')"
   ]
  },
  {
   "cell_type": "code",
   "execution_count": null,
   "id": "ae892cc5",
   "metadata": {},
   "outputs": [],
   "source": [
    "solution('91')"
   ]
  },
  {
   "cell_type": "code",
   "execution_count": null,
   "id": "f6184850",
   "metadata": {},
   "outputs": [],
   "source": [
    "### Phase 3 Problem 3\n",
    "def solution(map):\n",
    "    start_dist,end_dist=[],[]\n",
    "    changeable_start,changeable_end=[],[]\n",
    "    H=0\n",
    "    W=len(map[0])\n",
    "    for x in map:\n",
    "        H+=1\n",
    "        changeable_start.append([1-y for y in x])\n",
    "        start_dist.append([-y for y in x])\n",
    "    \n",
    "    for x in start_dist:\n",
    "        end_dist.append(list(x))\n",
    "    for x in changeable_start:\n",
    "        changeable_end.append(list(x))\n",
    "    \n",
    "    changeable_start[0][0]=0\n",
    "    start_dist[0][0]=1\n",
    "    changeable_end[H-1][W-1]=0\n",
    "    end_dist[H-1][W-1]=1\n",
    "    \n",
    "    for iter in range(H*W):\n",
    "        for i in range(H):\n",
    "            for j in range(W):\n",
    "                if start_dist[i][j]==iter+1:\n",
    "                    if i>0:\n",
    "                        start_dist[i-1][j]+=changeable_start[i-1][j]*(iter+2)\n",
    "                        changeable_start[i-1][j]=0\n",
    "                    if j>0:\n",
    "                        start_dist[i][j-1]+=changeable_start[i][j-1]*(iter+2)\n",
    "                        changeable_start[i][j-1]=0\n",
    "                    if i<H-1:\n",
    "                        start_dist[i+1][j]+=changeable_start[i+1][j]*(iter+2)\n",
    "                        changeable_start[i+1][j]=0\n",
    "                    if j<W-1:\n",
    "                        start_dist[i][j+1]+=changeable_start[i][j+1]*(iter+2)\n",
    "                        changeable_start[i][j+1]=0\n",
    "                if end_dist[i][j]==iter+1:\n",
    "                    if i>0:\n",
    "                        end_dist[i-1][j]+=changeable_end[i-1][j]*(iter+2)\n",
    "                        changeable_end[i-1][j]=0\n",
    "                    if j>0:\n",
    "                        end_dist[i][j-1]+=changeable_end[i][j-1]*(iter+2)\n",
    "                        changeable_end[i][j-1]=0\n",
    "                    if i<H-1:\n",
    "                        end_dist[i+1][j]+=changeable_end[i+1][j]*(iter+2)\n",
    "                        changeable_end[i+1][j]=0\n",
    "                    if j<W-1:\n",
    "                        end_dist[i][j+1]+=changeable_end[i][j+1]*(iter+2)\n",
    "                        changeable_end[i][j+1]=0     \n",
    "    \n",
    "    for i in range(H):\n",
    "        for j in range(W):\n",
    "            if start_dist[i][j]<=0:\n",
    "                start_dist[i][j]=H*W\n",
    "            if end_dist[i][j]<=0:\n",
    "                end_dist[i][j]=H*W\n",
    "                \n",
    "    shortest=start_dist[H-1][W-1]\n",
    "    \n",
    "    \n",
    "    for i in range(H):\n",
    "        for j in range(W):\n",
    "            if map[i][j]==1:\n",
    "                start_min=start_dist[H-1][W-1]\n",
    "                end_min=start_dist[H-1][W-1]\n",
    "                if i>0:\n",
    "                    if(start_min>start_dist[i-1][j]):\n",
    "                        start_min=start_dist[i-1][j]\n",
    "                    if(end_min>end_dist[i-1][j]):\n",
    "                        end_min=end_dist[i-1][j]\n",
    "                if j>0:\n",
    "                    if(start_min>start_dist[i][j-1]):\n",
    "                        start_min=start_dist[i][j-1]\n",
    "                    if(end_min>end_dist[i][j-1]):\n",
    "                        end_min=end_dist[i][j-1]\n",
    "                if i<H-1:\n",
    "                    if(start_min>start_dist[i+1][j]):\n",
    "                        start_min=start_dist[i+1][j]\n",
    "                    if(end_min>end_dist[i+1][j]):\n",
    "                        end_min=end_dist[i+1][j]\n",
    "                if j<W-1:\n",
    "                    if(start_min>start_dist[i][j+1]):\n",
    "                        start_min=start_dist[i][j+1]\n",
    "                    if(end_min>end_dist[i][j+1]):\n",
    "                        end_min=end_dist[i][j+1]\n",
    "                \n",
    "                if start_min+end_min+1<shortest:\n",
    "                    shortest=start_min+end_min+1\n",
    "                    \n",
    "    return shortest"
   ]
  },
  {
   "cell_type": "code",
   "execution_count": null,
   "id": "2c7695f4",
   "metadata": {},
   "outputs": [],
   "source": [
    "solution([[0, 1, 1, 0], [0, 0, 0, 1], [0, 1, 0, 0], [0, 1, 1, 0]])"
   ]
  },
  {
   "cell_type": "code",
   "execution_count": null,
   "id": "d7d0a28e",
   "metadata": {},
   "outputs": [],
   "source": [
    "solution([[0, 0, 0, 0, 0, 0], [1, 1, 1, 1, 1, 0], [0, 0, 0, 0, 0, 0], [0, 1, 1, 1, 1, 1], [0, 1, 1, 1, 1, 1], [0, 0, 0, 0, 0, 0]])"
   ]
  },
  {
   "cell_type": "code",
   "execution_count": null,
   "id": "d1ebac92",
   "metadata": {},
   "outputs": [],
   "source": [
    "solution([[0,0,0,0,0,0,0],[0,1,1,1,1,1,0],[0,1,1,1,1,1,0],[1,1,0,0,0,0,0],[1,1,1,0,1,1,1],[0,0,0,0,0,0,0]])"
   ]
  },
  {
   "cell_type": "code",
   "execution_count": null,
   "id": "c956896a",
   "metadata": {},
   "outputs": [],
   "source": [
    "solution([[0,1],[1,0]])"
   ]
  },
  {
   "cell_type": "code",
   "execution_count": 13,
   "id": "7d5dd4a3",
   "metadata": {},
   "outputs": [],
   "source": [
    "###Phase 4 Problem 1\n",
    "\n",
    "def solution(entrances, exits, path):\n",
    "    \n",
    "    F=2*10**6\n",
    "    maxflow=0\n",
    "    V=len(path)\n",
    "    flow_capacity=path[:][:]\n",
    "    \n",
    "    is_exit=[False for _ in range(V+1)]\n",
    "    \n",
    "    mother_source=[0 for _ in range(V)]\n",
    "    for x in entrances:\n",
    "        mother_source[x]=F\n",
    "    flow_capacity.append(mother_source)\n",
    "    \n",
    "    for x in exits:\n",
    "        is_exit[x]=True\n",
    "    \n",
    "    #print(is_exit)\n",
    "    \n",
    "    while(1):\n",
    "        \n",
    "        \"\"\"\n",
    "        for x in flow_capacity:\n",
    "            print(x)\n",
    "        \"\"\"\n",
    "        \n",
    "            \n",
    "        ancestor=[-1 for _ in range(V+1)]\n",
    "        visited=[False for _ in range(V+1)]\n",
    "        \n",
    "        v=V\n",
    "        stack=list()\n",
    "        while (not is_exit[v]):\n",
    "            for w in range(V):\n",
    "                if (not visited[w]) and (flow_capacity[v][w]>0):\n",
    "                    ancestor[w]=v\n",
    "                    stack.insert(-1,w)\n",
    "                    visited[w]=True\n",
    "            #print(ancestor)\n",
    "            if len(stack)!=0:\n",
    "                v=stack.pop()\n",
    "            else:\n",
    "                return maxflow\n",
    "                \n",
    "        flow=2*10**6\n",
    "        \n",
    "        v_end=v\n",
    "        #print(ancestor)\n",
    "        #print(v_end)\n",
    "        while (ancestor[v] != -1):\n",
    "            w=ancestor[v]\n",
    "            if flow>flow_capacity[w][v]:\n",
    "                flow=flow_capacity[w][v]\n",
    "            v=ancestor[v]\n",
    "            #print(\"hi\")\n",
    "        v=v_end\n",
    "        while (ancestor[v] != -1):\n",
    "            w=ancestor[v]\n",
    "            flow_capacity[w][v]-=flow\n",
    "            v=ancestor[v]\n",
    "            #print(\"hi2\")\n",
    "            \n",
    "        #print(flow)\n",
    "        maxflow+=flow"
   ]
  },
  {
   "cell_type": "code",
   "execution_count": 14,
   "id": "6f45778c",
   "metadata": {},
   "outputs": [
    {
     "name": "stdout",
     "output_type": "stream",
     "text": [
      "16\n"
     ]
    }
   ],
   "source": [
    "print(solution([1, 0], [4, 5], [[0, 0, 4, 6, 0, 0], [0, 0, 5, 2, 0, 0], [0, 0, 0, 0, 4, 4], [0, 0, 0, 0, 6, 6], [0, 0, 0, 0, 0, 0], [0, 0, 0, 0, 0, 0]]))"
   ]
  },
  {
   "cell_type": "code",
   "execution_count": 15,
   "id": "6a261ca4",
   "metadata": {},
   "outputs": [
    {
     "data": {
      "text/plain": [
       "6"
      ]
     },
     "execution_count": 15,
     "metadata": {},
     "output_type": "execute_result"
    }
   ],
   "source": [
    "solution([0], [3], [[0, 7, 0, 0], [0, 0, 6, 0], [0, 0, 0, 8], [9, 0, 0, 0]])"
   ]
  },
  {
   "cell_type": "code",
   "execution_count": 16,
   "id": "7146448f",
   "metadata": {},
   "outputs": [
    {
     "data": {
      "text/plain": [
       "10"
      ]
     },
     "execution_count": 16,
     "metadata": {},
     "output_type": "execute_result"
    }
   ],
   "source": [
    "solution([0],[1],[[0,10],[10,0]])"
   ]
  },
  {
   "cell_type": "code",
   "execution_count": 17,
   "id": "f50c02ed",
   "metadata": {},
   "outputs": [],
   "source": [
    "entrances=[0,1,2]\n",
    "exits=[4]\n",
    "path=[[1 for _ in range(5)] for _ in range(5)]"
   ]
  },
  {
   "cell_type": "code",
   "execution_count": 18,
   "id": "ea8175d3",
   "metadata": {},
   "outputs": [
    {
     "data": {
      "text/plain": [
       "4"
      ]
     },
     "execution_count": 18,
     "metadata": {},
     "output_type": "execute_result"
    }
   ],
   "source": [
    "for i in entrances:\n",
    "    for j in entrances:\n",
    "        path[i][j]=0\n",
    "solution(entrances,exits,path)"
   ]
  },
  {
   "cell_type": "code",
   "execution_count": null,
   "id": "23de2e89",
   "metadata": {},
   "outputs": [],
   "source": []
  }
 ],
 "metadata": {
  "kernelspec": {
   "display_name": "Python 3 (ipykernel)",
   "language": "python",
   "name": "python3"
  },
  "language_info": {
   "codemirror_mode": {
    "name": "ipython",
    "version": 3
   },
   "file_extension": ".py",
   "mimetype": "text/x-python",
   "name": "python",
   "nbconvert_exporter": "python",
   "pygments_lexer": "ipython3",
   "version": "3.9.12"
  }
 },
 "nbformat": 4,
 "nbformat_minor": 5
}
